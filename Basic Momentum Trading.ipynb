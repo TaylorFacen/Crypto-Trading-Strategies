{
 "cells": [
  {
   "cell_type": "markdown",
   "metadata": {},
   "source": [
    "### Personal Configuration"
   ]
  },
  {
   "cell_type": "code",
   "execution_count": 1,
   "metadata": {},
   "outputs": [],
   "source": [
    "# Used to reload any self-made packages\n",
    "%load_ext autoreload\n",
    "%autoreload 2\n",
    "\n",
    "import warnings\n",
    "warnings.simplefilter(action='ignore', category=RuntimeWarning)"
   ]
  },
  {
   "cell_type": "code",
   "execution_count": 2,
   "metadata": {},
   "outputs": [],
   "source": [
    "from config import nomics_key\n",
    "\n",
    "import sys\n",
    "sys.path.append(\"../nomics-api\")\n",
    "\n",
    "from nomics import Nomics\n",
    "nomics = Nomics(nomics_key)"
   ]
  },
  {
   "cell_type": "markdown",
   "metadata": {},
   "source": [
    "# Basic Momentum Trading Strategy"
   ]
  },
  {
   "cell_type": "code",
   "execution_count": 3,
   "metadata": {},
   "outputs": [],
   "source": [
    "import pandas as pd\n",
    "import numpy as np"
   ]
  },
  {
   "cell_type": "markdown",
   "metadata": {},
   "source": [
    "## Import Data\n",
    "For the sake of this analysis, I'm only going to look at crypto markets on Coinbase Pro (GDAX) where the quote currency is USD."
   ]
  },
  {
   "cell_type": "code",
   "execution_count": 5,
   "metadata": {},
   "outputs": [
    {
     "data": {
      "text/html": [
       "<div>\n",
       "<style scoped>\n",
       "    .dataframe tbody tr th:only-of-type {\n",
       "        vertical-align: middle;\n",
       "    }\n",
       "\n",
       "    .dataframe tbody tr th {\n",
       "        vertical-align: top;\n",
       "    }\n",
       "\n",
       "    .dataframe thead th {\n",
       "        text-align: right;\n",
       "    }\n",
       "</style>\n",
       "<table border=\"1\" class=\"dataframe\">\n",
       "  <thead>\n",
       "    <tr style=\"text-align: right;\">\n",
       "      <th></th>\n",
       "      <th>base</th>\n",
       "      <th>exchange</th>\n",
       "      <th>market</th>\n",
       "      <th>quote</th>\n",
       "    </tr>\n",
       "  </thead>\n",
       "  <tbody>\n",
       "    <tr>\n",
       "      <th>0</th>\n",
       "      <td>BCH</td>\n",
       "      <td>gdax</td>\n",
       "      <td>BCH-USD</td>\n",
       "      <td>USD</td>\n",
       "    </tr>\n",
       "    <tr>\n",
       "      <th>1</th>\n",
       "      <td>ZRX</td>\n",
       "      <td>gdax</td>\n",
       "      <td>ZRX-USD</td>\n",
       "      <td>USD</td>\n",
       "    </tr>\n",
       "    <tr>\n",
       "      <th>2</th>\n",
       "      <td>BTC</td>\n",
       "      <td>gdax</td>\n",
       "      <td>BTC-USD</td>\n",
       "      <td>USD</td>\n",
       "    </tr>\n",
       "    <tr>\n",
       "      <th>3</th>\n",
       "      <td>ETH</td>\n",
       "      <td>gdax</td>\n",
       "      <td>ETH-USD</td>\n",
       "      <td>USD</td>\n",
       "    </tr>\n",
       "    <tr>\n",
       "      <th>4</th>\n",
       "      <td>LTC</td>\n",
       "      <td>gdax</td>\n",
       "      <td>LTC-USD</td>\n",
       "      <td>USD</td>\n",
       "    </tr>\n",
       "    <tr>\n",
       "      <th>5</th>\n",
       "      <td>ETC</td>\n",
       "      <td>gdax</td>\n",
       "      <td>ETC-USD</td>\n",
       "      <td>USD</td>\n",
       "    </tr>\n",
       "  </tbody>\n",
       "</table>\n",
       "</div>"
      ],
      "text/plain": [
       "  base exchange   market quote\n",
       "0  BCH     gdax  BCH-USD   USD\n",
       "1  ZRX     gdax  ZRX-USD   USD\n",
       "2  BTC     gdax  BTC-USD   USD\n",
       "3  ETH     gdax  ETH-USD   USD\n",
       "4  LTC     gdax  LTC-USD   USD\n",
       "5  ETC     gdax  ETC-USD   USD"
      ]
     },
     "execution_count": 5,
     "metadata": {},
     "output_type": "execute_result"
    }
   ],
   "source": [
    "# Get all markets on the GDAX exchange where the quote price is USD\n",
    "usd_markets = pd.DataFrame(nomics.markets(exchange = 'gdax', quote = ['USD']))\n",
    "usd_markets"
   ]
  },
  {
   "cell_type": "code",
   "execution_count": 6,
   "metadata": {},
   "outputs": [],
   "source": [
    "prices = pd.DataFrame()\n",
    "for base in usd_markets['base']:\n",
    "    base_prices = pd.DataFrame(nomics.candles(interval = '1d', base = base, start = '2018-01-01', \n",
    "                                              exchange = 'gdax', quote = 'USD')).set_index('timestamp')[['close']].astype(float)\n",
    "    base_prices = base_prices.rename(columns = {\n",
    "        'close' : base\n",
    "    })\n",
    "    prices = prices.join(base_prices, how = 'outer')\n",
    "    \n",
    "# Convert to iso format\n",
    "prices.index = [pd.to_datetime(x) for x in prices.index]\n",
    "prices.index.name = 'date'"
   ]
  },
  {
   "cell_type": "code",
   "execution_count": 7,
   "metadata": {},
   "outputs": [
    {
     "data": {
      "text/html": [
       "<div>\n",
       "<style scoped>\n",
       "    .dataframe tbody tr th:only-of-type {\n",
       "        vertical-align: middle;\n",
       "    }\n",
       "\n",
       "    .dataframe tbody tr th {\n",
       "        vertical-align: top;\n",
       "    }\n",
       "\n",
       "    .dataframe thead th {\n",
       "        text-align: right;\n",
       "    }\n",
       "</style>\n",
       "<table border=\"1\" class=\"dataframe\">\n",
       "  <thead>\n",
       "    <tr style=\"text-align: right;\">\n",
       "      <th></th>\n",
       "      <th>BCH</th>\n",
       "      <th>ZRX</th>\n",
       "      <th>BTC</th>\n",
       "      <th>ETH</th>\n",
       "      <th>LTC</th>\n",
       "      <th>ETC</th>\n",
       "    </tr>\n",
       "    <tr>\n",
       "      <th>date</th>\n",
       "      <th></th>\n",
       "      <th></th>\n",
       "      <th></th>\n",
       "      <th></th>\n",
       "      <th></th>\n",
       "      <th></th>\n",
       "    </tr>\n",
       "  </thead>\n",
       "  <tbody>\n",
       "    <tr>\n",
       "      <th>2018-01-01</th>\n",
       "      <td>2326.86</td>\n",
       "      <td>NaN</td>\n",
       "      <td>13480.01</td>\n",
       "      <td>759.03</td>\n",
       "      <td>225.22</td>\n",
       "      <td>NaN</td>\n",
       "    </tr>\n",
       "    <tr>\n",
       "      <th>2018-01-02</th>\n",
       "      <td>2558.58</td>\n",
       "      <td>NaN</td>\n",
       "      <td>14781.51</td>\n",
       "      <td>865.00</td>\n",
       "      <td>253.31</td>\n",
       "      <td>NaN</td>\n",
       "    </tr>\n",
       "    <tr>\n",
       "      <th>2018-01-03</th>\n",
       "      <td>2548.65</td>\n",
       "      <td>NaN</td>\n",
       "      <td>15098.14</td>\n",
       "      <td>938.31</td>\n",
       "      <td>244.99</td>\n",
       "      <td>NaN</td>\n",
       "    </tr>\n",
       "    <tr>\n",
       "      <th>2018-01-04</th>\n",
       "      <td>2362.74</td>\n",
       "      <td>NaN</td>\n",
       "      <td>15144.99</td>\n",
       "      <td>949.00</td>\n",
       "      <td>238.91</td>\n",
       "      <td>NaN</td>\n",
       "    </tr>\n",
       "    <tr>\n",
       "      <th>2018-01-05</th>\n",
       "      <td>2398.00</td>\n",
       "      <td>NaN</td>\n",
       "      <td>16960.01</td>\n",
       "      <td>969.27</td>\n",
       "      <td>246.23</td>\n",
       "      <td>NaN</td>\n",
       "    </tr>\n",
       "  </tbody>\n",
       "</table>\n",
       "</div>"
      ],
      "text/plain": [
       "                BCH  ZRX       BTC     ETH     LTC  ETC\n",
       "date                                                   \n",
       "2018-01-01  2326.86  NaN  13480.01  759.03  225.22  NaN\n",
       "2018-01-02  2558.58  NaN  14781.51  865.00  253.31  NaN\n",
       "2018-01-03  2548.65  NaN  15098.14  938.31  244.99  NaN\n",
       "2018-01-04  2362.74  NaN  15144.99  949.00  238.91  NaN\n",
       "2018-01-05  2398.00  NaN  16960.01  969.27  246.23  NaN"
      ]
     },
     "execution_count": 7,
     "metadata": {},
     "output_type": "execute_result"
    }
   ],
   "source": [
    "prices.head()"
   ]
  },
  {
   "cell_type": "markdown",
   "metadata": {},
   "source": [
    "## Basic Momentum Trading Strategy Analysis\n",
    "\n",
    "Let's see what the returns of a Coinbase Pro portfolio would look like if we were to use a basic momentum based trading strategy. This strategy says that if the coin had positive returns during the previous period, then we should add it to the portfolio. We'll later analyze and compare the returns on this strategy when rebalancing daily, weekly, and monthly. "
   ]
  },
  {
   "cell_type": "code",
   "execution_count": 8,
   "metadata": {},
   "outputs": [],
   "source": [
    "# Calculate log returns\n",
    "log_returns = np.log(prices) - np.log(prices.shift(1))\n",
    "\n",
    "# Calculate the previous and future period returns\n",
    "prev_period_returns = log_returns.shift(1)\n",
    "future_period_returns = log_returns.shift(-1)"
   ]
  },
  {
   "cell_type": "code",
   "execution_count": 9,
   "metadata": {},
   "outputs": [
    {
     "name": "stdout",
     "output_type": "stream",
     "text": [
      "Previous Period Returns\n",
      "                 BCH  ZRX       BTC       ETH       LTC  ETC\n",
      "date                                                        \n",
      "2018-01-01       NaN  NaN       NaN       NaN       NaN  NaN\n",
      "2018-01-02       NaN  NaN       NaN       NaN       NaN  NaN\n",
      "2018-01-03  0.094933  NaN  0.092169  0.130688  0.117536  NaN\n",
      "2018-01-04 -0.003889  NaN  0.021194  0.081351 -0.033397  NaN\n",
      "2018-01-05 -0.075742  NaN  0.003098  0.011328 -0.025130  NaN\n",
      "\n",
      "Future Period Returns\n",
      "                 BCH       ZRX       BTC       ETH       LTC       ETC\n",
      "date                                                                  \n",
      "2019-01-17 -0.023549 -0.046980 -0.009050 -0.024952 -0.021094 -0.008949\n",
      "2019-01-18  0.014025  0.025187  0.020521  0.029998  0.039891  0.002245\n",
      "2019-01-19 -0.053372 -0.052585 -0.039218 -0.047723 -0.051261 -0.015820\n",
      "2019-01-20 -0.009317 -0.002803       NaN -0.020563  0.002610  0.002275\n",
      "2019-01-21       NaN       NaN       NaN       NaN       NaN       NaN\n"
     ]
    }
   ],
   "source": [
    "print(\"Previous Period Returns\")\n",
    "print(prev_period_returns.head())\n",
    "print()\n",
    "print(\"Future Period Returns\")\n",
    "print(future_period_returns.tail())"
   ]
  },
  {
   "cell_type": "code",
   "execution_count": 10,
   "metadata": {},
   "outputs": [
    {
     "data": {
      "text/html": [
       "<div>\n",
       "<style scoped>\n",
       "    .dataframe tbody tr th:only-of-type {\n",
       "        vertical-align: middle;\n",
       "    }\n",
       "\n",
       "    .dataframe tbody tr th {\n",
       "        vertical-align: top;\n",
       "    }\n",
       "\n",
       "    .dataframe thead th {\n",
       "        text-align: right;\n",
       "    }\n",
       "</style>\n",
       "<table border=\"1\" class=\"dataframe\">\n",
       "  <thead>\n",
       "    <tr style=\"text-align: right;\">\n",
       "      <th></th>\n",
       "      <th>BCH</th>\n",
       "      <th>ZRX</th>\n",
       "      <th>BTC</th>\n",
       "      <th>ETH</th>\n",
       "      <th>LTC</th>\n",
       "      <th>ETC</th>\n",
       "    </tr>\n",
       "    <tr>\n",
       "      <th>date</th>\n",
       "      <th></th>\n",
       "      <th></th>\n",
       "      <th></th>\n",
       "      <th></th>\n",
       "      <th></th>\n",
       "      <th></th>\n",
       "    </tr>\n",
       "  </thead>\n",
       "  <tbody>\n",
       "    <tr>\n",
       "      <th>2018-01-01</th>\n",
       "      <td>0.000000</td>\n",
       "      <td>NaN</td>\n",
       "      <td>0.000000</td>\n",
       "      <td>0.000000</td>\n",
       "      <td>0.00000</td>\n",
       "      <td>NaN</td>\n",
       "    </tr>\n",
       "    <tr>\n",
       "      <th>2018-01-02</th>\n",
       "      <td>-0.000000</td>\n",
       "      <td>NaN</td>\n",
       "      <td>0.000000</td>\n",
       "      <td>0.000000</td>\n",
       "      <td>-0.00000</td>\n",
       "      <td>NaN</td>\n",
       "    </tr>\n",
       "    <tr>\n",
       "      <th>2018-01-03</th>\n",
       "      <td>-0.075742</td>\n",
       "      <td>NaN</td>\n",
       "      <td>0.003098</td>\n",
       "      <td>0.011328</td>\n",
       "      <td>-0.02513</td>\n",
       "      <td>NaN</td>\n",
       "    </tr>\n",
       "    <tr>\n",
       "      <th>2018-01-04</th>\n",
       "      <td>0.000000</td>\n",
       "      <td>NaN</td>\n",
       "      <td>0.113188</td>\n",
       "      <td>0.021134</td>\n",
       "      <td>0.00000</td>\n",
       "      <td>NaN</td>\n",
       "    </tr>\n",
       "    <tr>\n",
       "      <th>2018-01-05</th>\n",
       "      <td>0.000000</td>\n",
       "      <td>NaN</td>\n",
       "      <td>0.008161</td>\n",
       "      <td>0.037870</td>\n",
       "      <td>0.00000</td>\n",
       "      <td>NaN</td>\n",
       "    </tr>\n",
       "  </tbody>\n",
       "</table>\n",
       "</div>"
      ],
      "text/plain": [
       "                 BCH  ZRX       BTC       ETH      LTC  ETC\n",
       "date                                                       \n",
       "2018-01-01  0.000000  NaN  0.000000  0.000000  0.00000  NaN\n",
       "2018-01-02 -0.000000  NaN  0.000000  0.000000 -0.00000  NaN\n",
       "2018-01-03 -0.075742  NaN  0.003098  0.011328 -0.02513  NaN\n",
       "2018-01-04  0.000000  NaN  0.113188  0.021134  0.00000  NaN\n",
       "2018-01-05  0.000000  NaN  0.008161  0.037870  0.00000  NaN"
      ]
     },
     "execution_count": 10,
     "metadata": {},
     "output_type": "execute_result"
    }
   ],
   "source": [
    "# If the previous period had a positive return, then it's added to the portfolio\n",
    "# When an asset is added to the portfolio, it's return is designated in the future_period_returns df\n",
    "\n",
    "portfolio = (prev_period_returns > 0) * future_period_returns\n",
    "portfolio.head()"
   ]
  },
  {
   "cell_type": "code",
   "execution_count": 11,
   "metadata": {},
   "outputs": [
    {
     "data": {
      "text/plain": [
       "date\n",
       "2018-01-01    0.000000\n",
       "2018-01-02    0.000000\n",
       "2018-01-03   -0.021611\n",
       "2018-01-04    0.067161\n",
       "2018-01-05    0.023016\n",
       "dtype: float64"
      ]
     },
     "execution_count": 11,
     "metadata": {},
     "output_type": "execute_result"
    }
   ],
   "source": [
    "# Divide the total return for that period by the number of coins in the portfolio\n",
    "# We're assuming each coin was evenly weighted in the portfolio\n",
    "# Fill any empty values with 0 (no return for that period)\n",
    "\n",
    "portfolio_returns = (portfolio.sum(axis = 1) / (prev_period_returns > 0).sum(axis = 1)).fillna(0)\n",
    "portfolio_returns.head()"
   ]
  },
  {
   "cell_type": "code",
   "execution_count": 12,
   "metadata": {},
   "outputs": [],
   "source": [
    "#Let's assume we invested $100 on January 1, 2018. Where would we be now?\n",
    "initial_value = 100\n",
    "value = initial_value\n",
    "portfolio_values = []\n",
    "for date in portfolio_returns.index:\n",
    "    value += portfolio_returns.loc[date] * value\n",
    "    portfolio_values.append(value)"
   ]
  },
  {
   "cell_type": "code",
   "execution_count": 14,
   "metadata": {},
   "outputs": [
    {
     "data": {
      "text/html": [
       "<div>\n",
       "<style scoped>\n",
       "    .dataframe tbody tr th:only-of-type {\n",
       "        vertical-align: middle;\n",
       "    }\n",
       "\n",
       "    .dataframe tbody tr th {\n",
       "        vertical-align: top;\n",
       "    }\n",
       "\n",
       "    .dataframe thead th {\n",
       "        text-align: right;\n",
       "    }\n",
       "</style>\n",
       "<table border=\"1\" class=\"dataframe\">\n",
       "  <thead>\n",
       "    <tr style=\"text-align: right;\">\n",
       "      <th></th>\n",
       "      <th>Returns</th>\n",
       "      <th>Portfolio Value</th>\n",
       "    </tr>\n",
       "    <tr>\n",
       "      <th>date</th>\n",
       "      <th></th>\n",
       "      <th></th>\n",
       "    </tr>\n",
       "  </thead>\n",
       "  <tbody>\n",
       "    <tr>\n",
       "      <th>2018-01-01</th>\n",
       "      <td>0.000000</td>\n",
       "      <td>100.000000</td>\n",
       "    </tr>\n",
       "    <tr>\n",
       "      <th>2018-01-02</th>\n",
       "      <td>0.000000</td>\n",
       "      <td>100.000000</td>\n",
       "    </tr>\n",
       "    <tr>\n",
       "      <th>2018-01-03</th>\n",
       "      <td>-0.021611</td>\n",
       "      <td>97.838858</td>\n",
       "    </tr>\n",
       "    <tr>\n",
       "      <th>2018-01-04</th>\n",
       "      <td>0.067161</td>\n",
       "      <td>104.409855</td>\n",
       "    </tr>\n",
       "    <tr>\n",
       "      <th>2018-01-05</th>\n",
       "      <td>0.023016</td>\n",
       "      <td>106.812902</td>\n",
       "    </tr>\n",
       "  </tbody>\n",
       "</table>\n",
       "</div>"
      ],
      "text/plain": [
       "             Returns  Portfolio Value\n",
       "date                                 \n",
       "2018-01-01  0.000000       100.000000\n",
       "2018-01-02  0.000000       100.000000\n",
       "2018-01-03 -0.021611        97.838858\n",
       "2018-01-04  0.067161       104.409855\n",
       "2018-01-05  0.023016       106.812902"
      ]
     },
     "execution_count": 14,
     "metadata": {},
     "output_type": "execute_result"
    }
   ],
   "source": [
    "output = portfolio_returns.to_frame(\"Returns\")\n",
    "output[\"Portfolio Value\"] = portfolio_values\n",
    "output.head()"
   ]
  },
  {
   "cell_type": "code",
   "execution_count": 15,
   "metadata": {},
   "outputs": [
    {
     "name": "stdout",
     "output_type": "stream",
     "text": [
      "The overall return of this strategy is -0.5868; the ending value of the portfolio is 41.32\n",
      "The maximum period over period return of 0.1634 happened on 2018-12-19 00:00:00\n",
      "The maximum portfolio value of 115.85 occured on 2018-01-08 00:00:00\n",
      "The win rate over this period is 0.2824\n"
     ]
    }
   ],
   "source": [
    "max_return_date = output.idxmax()['Returns']\n",
    "max_value_date = output.idxmax()['Portfolio Value']\n",
    "end_value = output.iloc[-1]['Portfolio Value']\n",
    "overall_return = (end_value - initial_value) / initial_value\n",
    "# Win rate is the percentage of period with positive returns\n",
    "win_rate = sum(output['Returns'] > 0) / len(output)\n",
    "\n",
    "print(\"The overall return of this strategy is {}; the ending value of the portfolio is {}\".format(round(overall_return,4), round(end_value, 2)))\n",
    "print(\"The maximum period over period return of {} happened on {}\".format(round(output.loc[max_return_date, 'Returns'], 4), max_return_date))\n",
    "print(\"The maximum portfolio value of {} occured on {}\".format(round(output.loc[max_value_date, 'Portfolio Value'], 2), max_value_date))\n",
    "print(\"The win rate over this period is {}\".format(round(win_rate, 4)))"
   ]
  },
  {
   "cell_type": "markdown",
   "metadata": {},
   "source": [
    "16% in one day sounds impressive, but the overall loss of 58% is quite depressive. Let's see if rebalancing weekly or monthly can show an improvement. First, let's create a function to group together all of these calculations"
   ]
  },
  {
   "cell_type": "code",
   "execution_count": 16,
   "metadata": {},
   "outputs": [],
   "source": [
    "def test_strategy(resample_freq):\n",
    "    resampled_prices = prices.resample(resample_freq).last()\n",
    "\n",
    "    # Calculate log returns\n",
    "    log_returns = np.log(resampled_prices) - np.log(resampled_prices.shift(1))\n",
    "\n",
    "    # Calculate the previous and future period returns\n",
    "    prev_period_returns = log_returns.shift(1).replace(np.inf, np.nan).replace(-np.inf, np.nan)\n",
    "    future_period_returns = log_returns.shift(-1).replace(np.inf, np.nan).replace(-np.inf, np.nan)\n",
    "\n",
    "    # If the previous period had a positive return, then it's added to the portfolio\n",
    "    # When an asset is added to the portfolio, it's return is designated in the future_period_returns df\n",
    "    portfolio = (prev_period_returns > 0) * future_period_returns\n",
    "\n",
    "    # Divide the total return for that period by the number of coins in the portfolio\n",
    "    # We're assuming each coin was evenly weighted in the portfolio\n",
    "    # Fill any empty values with 0 (no return for that period)\n",
    "\n",
    "    portfolio_returns = (portfolio.sum(axis = 1) / (prev_period_returns > 0).sum(axis = 1)).fillna(0)\n",
    "\n",
    "    #Let's assume we invested $100 on January 1, 2018. Where would we be now?\n",
    "    initial_value = 100\n",
    "    value = initial_value\n",
    "    portfolio_values = []\n",
    "    for date in portfolio_returns.index:\n",
    "        value += portfolio_returns.loc[date] * value\n",
    "        portfolio_values.append(value)\n",
    "\n",
    "    output = portfolio_returns.to_frame(\"Returns\")\n",
    "    output[\"Portfolio Value\"] = portfolio_values\n",
    "\n",
    "    max_return_date = output.idxmax()['Returns']\n",
    "    max_value_date = output.idxmax()['Portfolio Value']\n",
    "    end_value = output.iloc[-1]['Portfolio Value']\n",
    "    overall_return = (end_value - initial_value) / initial_value\n",
    "    # Win rate is the percentage of period with positive returns\n",
    "    win_rate = sum(output['Returns'] > 0) / len(output)\n",
    "\n",
    "    print(\"The overall return of this strategy is {}; the ending value of the portfolio is {}\".format(round(overall_return,4), round(end_value, 2)))\n",
    "    print(\"The maximum period over period return of {} happened on {}\".format(round(output.loc[max_return_date, 'Returns'], 4), max_return_date.date()))\n",
    "    print(\"The maximum portfolio value of {} occured on {}\".format(round(output.loc[max_value_date, 'Portfolio Value'], 2), max_value_date.date()))\n",
    "    print(\"The win rate over this period is {}\".format(round(win_rate, 4)))\n",
    "    \n",
    "    return output"
   ]
  },
  {
   "cell_type": "code",
   "execution_count": 17,
   "metadata": {},
   "outputs": [
    {
     "name": "stdout",
     "output_type": "stream",
     "text": [
      "Daily Rebalance\n",
      "The overall return of this strategy is -0.5306; the ending value of the portfolio is 46.94\n",
      "The maximum period over period return of 0.1634 happened on 2018-12-19\n",
      "The maximum portfolio value of 115.85 occured on 2018-01-08\n",
      "The win rate over this period is 0.2824\n"
     ]
    }
   ],
   "source": [
    "print(\"Daily Rebalance\")\n",
    "daily_rebalance_output = test_strategy('1d')"
   ]
  },
  {
   "cell_type": "code",
   "execution_count": 18,
   "metadata": {},
   "outputs": [
    {
     "name": "stdout",
     "output_type": "stream",
     "text": [
      "Weekly Rebalance\n",
      "The overall return of this strategy is -0.7424; the ending value of the portfolio is 25.76\n",
      "The maximum period over period return of 0.1838 happened on 2018-04-15\n",
      "The maximum portfolio value of 106.0 occured on 2018-01-21\n",
      "The win rate over this period is 0.2143\n"
     ]
    }
   ],
   "source": [
    "print(\"Weekly Rebalance\")\n",
    "weekly_rebalance_output = test_strategy('W')"
   ]
  },
  {
   "cell_type": "code",
   "execution_count": 19,
   "metadata": {},
   "outputs": [
    {
     "name": "stdout",
     "output_type": "stream",
     "text": [
      "Monthly Rebalance\n",
      "The overall return of this strategy is -0.1105; the ending value of the portfolio is 88.95\n",
      "The maximum period over period return of 0.2661 happened on 2018-03-31\n",
      "The maximum portfolio value of 126.61 occured on 2018-03-31\n",
      "The win rate over this period is 0.0769\n"
     ]
    }
   ],
   "source": [
    "print(\"Monthly Rebalance\")\n",
    "monthly_rebalance_output = test_strategy('M')"
   ]
  },
  {
   "cell_type": "markdown",
   "metadata": {},
   "source": [
    "Here's something that's interesting. The strategy with the greatest ending portfolio value has the lowest win rate. 🤔 . Well, just for kicks, let's see what a passive (buy and hold) Coinbase Pro portfolio would look like. "
   ]
  },
  {
   "cell_type": "code",
   "execution_count": 20,
   "metadata": {},
   "outputs": [
    {
     "data": {
      "text/plain": [
       "-0.8486"
      ]
     },
     "execution_count": 20,
     "metadata": {},
     "output_type": "execute_result"
    }
   ],
   "source": [
    "# Using the second to last day because as of right now, nomics isn't returning a price for BTC. Will review later. \n",
    "round(((prices.iloc[-2] - prices.iloc[0]) / prices.iloc[0]).sum() / 4, 4)"
   ]
  },
  {
   "cell_type": "markdown",
   "metadata": {},
   "source": [
    "Well, although these momentum strategies didn't yield positive returns, they still outperformed a buy and hold strategy. However, given the extreme downturn of 2018's market, I'm sure beating the marketing wasn't hard to do. Regardless, I'll have to look around for other methods to use to trade in the crypto market; perhaps one that kicks into defensive mode when the market isn't doing too well. "
   ]
  },
  {
   "cell_type": "code",
   "execution_count": 21,
   "metadata": {},
   "outputs": [],
   "source": [
    "# To Do: play around with different return thresholds to see if results improve. \n",
    "# E.g. Only add a coin to the portfolio if the previous period's return was over 5%"
   ]
  }
 ],
 "metadata": {
  "kernelspec": {
   "display_name": "Python 3",
   "language": "python",
   "name": "python3"
  },
  "language_info": {
   "codemirror_mode": {
    "name": "ipython",
    "version": 3
   },
   "file_extension": ".py",
   "mimetype": "text/x-python",
   "name": "python",
   "nbconvert_exporter": "python",
   "pygments_lexer": "ipython3",
   "version": "3.6.5"
  }
 },
 "nbformat": 4,
 "nbformat_minor": 2
}
